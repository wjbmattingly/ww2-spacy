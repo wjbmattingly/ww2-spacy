{
 "cells": [
  {
   "cell_type": "code",
   "execution_count": null,
   "id": "0dc3b1b0-8580-4696-a131-1f4045721a04",
   "metadata": {},
   "outputs": [],
   "source": [
    "import spacy\n",
    "from spacy import displacy"
   ]
  },
  {
   "cell_type": "code",
   "execution_count": null,
   "id": "a1522328-271e-49bc-9ac8-0421ece4a61c",
   "metadata": {},
   "outputs": [],
   "source": [
    "nlp = spacy.load(\"en_ww2spacy\")"
   ]
  },
  {
   "cell_type": "code",
   "execution_count": null,
   "id": "75a0ef5e-5855-4da7-babf-743289e78edb",
   "metadata": {},
   "outputs": [],
   "source": [
    "text = \"The P-35 flew in WW2 at Battle of Point 175. The 10th Armored Division was led by General William H. H. Morris. It contained 24 Sherman tanks. John Sherman is a false positive.\"\n",
    "doc = nlp(text)\n",
    "displacy.render(doc, style=\"span\", jupyter=True, options = {\"spans_key\": \"ruler\"})"
   ]
  },
  {
   "cell_type": "code",
   "execution_count": null,
   "id": "30899c5d-ff5d-4c9b-b401-3ae05e1a3f23",
   "metadata": {},
   "outputs": [],
   "source": []
  }
 ],
 "metadata": {
  "kernelspec": {
   "display_name": "Python 3 (ipykernel)",
   "language": "python",
   "name": "python3"
  },
  "language_info": {
   "codemirror_mode": {
    "name": "ipython",
    "version": 3
   },
   "file_extension": ".py",
   "mimetype": "text/x-python",
   "name": "python",
   "nbconvert_exporter": "python",
   "pygments_lexer": "ipython3",
   "version": "3.8.5"
  }
 },
 "nbformat": 4,
 "nbformat_minor": 5
}
